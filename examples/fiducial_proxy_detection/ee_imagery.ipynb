{
 "cells": [
  {
   "cell_type": "code",
   "execution_count": null,
   "metadata": {},
   "outputs": [],
   "source": [
    "%load_ext autoreload\n",
    "%autoreload 2"
   ]
  },
  {
   "cell_type": "code",
   "execution_count": null,
   "metadata": {},
   "outputs": [],
   "source": [
    "import hipp\n",
    "from getpass import getpass\n",
    "import glob\n",
    "import os"
   ]
  },
  {
   "cell_type": "markdown",
   "metadata": {},
   "source": [
    "## Login"
   ]
  },
  {
   "cell_type": "code",
   "execution_count": null,
   "metadata": {},
   "outputs": [],
   "source": [
    "apiKey = hipp.dataquery.EE_login(input(), getpass())"
   ]
  },
  {
   "cell_type": "markdown",
   "metadata": {},
   "source": [
    "## Inputs"
   ]
  },
  {
   "cell_type": "code",
   "execution_count": null,
   "metadata": {},
   "outputs": [],
   "source": [
    "bounds = (-122, 49, -121.5, 48.5)\n",
    "ee_project_name = 'LK000'\n",
    "year = 1950\n",
    "month = 9\n",
    "day = 2\n",
    "output_directory    = './'\n",
    "ee_query_max_results   = 10 #do more than 1 because you may get a calibration file\n",
    "ee_query_label = 'test_download' #try to use the same one for consistent behavior from the EE API"
   ]
  },
  {
   "cell_type": "markdown",
   "metadata": {},
   "source": [
    "## Query EE\n",
    "\n",
    "and filter results by the project name you are interested in (or look at the entire ee_results_df first)"
   ]
  },
  {
   "cell_type": "code",
   "execution_count": null,
   "metadata": {},
   "outputs": [],
   "source": [
    "ULLON, ULLAT, LRLON, LRLAT = bounds\n",
    "\n",
    "ee_results_df = hipp.dataquery.EE_pre_select_images(\n",
    "    apiKey,\n",
    "    xmin = LRLON,\n",
    "    ymin = LRLAT,\n",
    "    xmax = ULLON,\n",
    "    ymax = ULLAT,\n",
    "    startDate = f\"{year}-{month}-{day}\",\n",
    "    endDate = f\"{year}-{month}-{day}\",\n",
    "    maxResults   = ee_query_max_results\n",
    ")\n",
    "\n",
    "ee_results_df = ee_results_df[ee_results_df['project'] == ee_project_name]"
   ]
  },
  {
   "cell_type": "code",
   "execution_count": null,
   "metadata": {},
   "outputs": [],
   "source": [
    "ee_results_df"
   ]
  },
  {
   "cell_type": "markdown",
   "metadata": {},
   "source": [
    "## Select the first image for download and download it\n",
    "Ideally you want to select an image that is representative of the set, not necessarily the first one.\n",
    "(e.g. choose and image without over or under exposed areas)"
   ]
  },
  {
   "cell_type": "code",
   "execution_count": null,
   "metadata": {},
   "outputs": [],
   "source": [
    "ee_results_df = ee_results_df.head(1)"
   ]
  },
  {
   "cell_type": "code",
   "execution_count": null,
   "metadata": {},
   "outputs": [],
   "source": [
    "images_directory, calibration_reports_directory, scanning_resolution = hipp.dataquery.EE_download_images_to_disk(\n",
    "    apiKey,\n",
    "    ee_results_df['entityId'].tolist(),\n",
    "    ee_query_label,\n",
    "    output_directory\n",
    ")\n",
    "single_image_file = glob.glob(os.path.join(images_directory,'*.tif'))[0]"
   ]
  },
  {
   "cell_type": "markdown",
   "metadata": {},
   "source": [
    "## Create fiducial templates from images\n",
    "\n",
    "Note that the optional parameter buffer_distance should be tuned to the dataset you are using."
   ]
  },
  {
   "cell_type": "code",
   "execution_count": null,
   "metadata": {},
   "outputs": [],
   "source": [
    "fiducial_template_directory = os.path.join(output_directory, 'fiducials')\n",
    "\n",
    "hipp.core.create_midside_fiducial_proxies_template(\n",
    "    single_image_file,\n",
    "    output_directory = fiducial_template_directory,\n",
    "    buffer_distance = 250 #default value\n",
    "\n",
    ")"
   ]
  },
  {
   "cell_type": "markdown",
   "metadata": {},
   "source": [
    "## Detect principal points and crop images"
   ]
  },
  {
   "cell_type": "code",
   "execution_count": null,
   "metadata": {},
   "outputs": [],
   "source": [
    "hipp.batch.preprocess_with_fiducial_proxies(images_directory,\n",
    "                                            fiducial_template_directory)"
   ]
  },
  {
   "cell_type": "code",
   "execution_count": null,
   "metadata": {},
   "outputs": [],
   "source": []
  }
 ],
 "metadata": {
  "kernelspec": {
   "display_name": "Python [conda env:hipp]",
   "language": "python",
   "name": "conda-env-hipp-py"
  },
  "language_info": {
   "codemirror_mode": {
    "name": "ipython",
    "version": 3
   },
   "file_extension": ".py",
   "mimetype": "text/x-python",
   "name": "python",
   "nbconvert_exporter": "python",
   "pygments_lexer": "ipython3",
   "version": "3.10.16"
  }
 },
 "nbformat": 4,
 "nbformat_minor": 4
}
